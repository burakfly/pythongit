{
  "nbformat": 4,
  "nbformat_minor": 2,
  "metadata": {
    "colab": {
      "name": "group_2.ipynb",
      "provenance": []
    },
    "kernelspec": {
      "name": "python3",
      "display_name": "Python 3.9.6 64-bit"
    },
    "language_info": {
      "name": "python",
      "version": "3.9.6",
      "mimetype": "text/x-python",
      "codemirror_mode": {
        "name": "ipython",
        "version": 3
      },
      "pygments_lexer": "ipython3",
      "nbconvert_exporter": "python",
      "file_extension": ".py"
    },
    "interpreter": {
      "hash": "1f5a4fa7b40ef2e17656420b24044b840261820699086190e3701f297d6ffec2"
    }
  },
  "cells": [
    {
      "cell_type": "markdown",
      "source": [
        "1- Write a program to prompt for a score between 0.0 and 1.0. If the score is out of range, print an error. If the score is between 0.0 and 1.0, print a grade using the following table: Score Grade\n",
        "\n",
        "0.9 A\n",
        "\n",
        "0.8 B\n",
        "\n",
        "0.7 C\n",
        "\n",
        "0.6 D\n",
        "\n",
        "0.6 F\n",
        "\n",
        "If the user enters a value out of range, print a suitable error message and exit. For the test, enter a score of 0.85"
      ],
      "metadata": {
        "id": "DpXjn6Vd9Yw6"
      }
    },
    {
      "cell_type": "markdown",
      "source": [
        "2- Yazi olarak girilen string ifadenin içindeki harfler tamamen büyük veya tamamen küçük ise True, küçük ve büyük harlerden oluşmuş ise False veren bir fonksiyon yazalım."
      ],
      "metadata": {
        "id": "k7W9-BOA9n7O"
      }
    },
    {
      "cell_type": "markdown",
      "source": [
        "3- Sayıyı kalansız bölen sayıları bulan bir fonksiyon yazalım "
      ],
      "metadata": {
        "id": "6PFwqEFO9nxy"
      }
    },
    {
      "cell_type": "markdown",
      "source": [
        "4- Cümlenin içindeki sesli harfleri kaldıran bir fonksiyon yazalım.\r\n",
        "print(sessiz_yap(\"Hayat beni neden yoruyosun?:)\")) --> hyt bn ndn yrysn?:)"
      ],
      "metadata": {
        "id": "rgWFi-lZ9noI"
      }
    },
    {
      "cell_type": "markdown",
      "source": [
        "5- Tarihi yüzyıla çeviren bir fonksiyon yazalım.\n",
        "print(yüzyıl_yap(1738)) --> 18. yüzyıl"
      ],
      "metadata": {
        "id": "yxwOQSQe9ne1"
      }
    },
    {
      "cell_type": "markdown",
      "source": [],
      "metadata": {
        "id": "E4tCFCc-9nVQ"
      }
    },
    {
      "cell_type": "markdown",
      "source": [
        "6- Yazının içersindeki kelimelerin ilk ve son karakterleri sabit tutup diğer karakterleri yerine - çizgi koyan fonksiyon yazalım.\n",
        "print(dönüstür(\"hello world\")) --> h---o w---d "
      ],
      "metadata": {
        "id": "Y4qLf-_89nL4"
      }
    },
    {
      "cell_type": "markdown",
      "source": [
        "7- Her girdi listesinde iki tanesi hariç her rakam en az bir kere tekrarlıyor.iki benzersiz sayıyı döndüren bir fonksiyon yazalım.\n",
        "benzersizi_bul([2,2,3,11,3,6,5]) --> [6, 5]  # 11 te 2 tane 1 var"
      ],
      "metadata": {
        "id": "mEPc7d0Z9nAI"
      }
    },
    {
      "cell_type": "markdown",
      "source": [
        "8- Bir stringi(kelime) alan ve birbirini izleyen aynı harfleri çıkaran bir fonksiyon oluşturun.\n",
        "print(cıkar(\"mmmeeerrhhhaaabbbaaa\")) --> merhaba"
      ],
      "metadata": {
        "id": "GMgm2Jhu9mQj"
      }
    },
    {
      "cell_type": "markdown",
      "source": [
        "9- Belirli aralıkta(sınırlar dahil) verilen rakamın kaç kere olduğunu sayan bir fonksiyon yazalım. print(kac_tane(50,55,5)) --> 7"
      ],
      "metadata": {
        "id": "3oD9kK_q9mBH"
      }
    },
    {
      "cell_type": "markdown",
      "source": [
        "10- Yüksekliği verilen yılbaşı ağacını oluşturan bir fonksiyon yazalım. agac(7)\n",
        "\n",
        "\n",
        "```\n",
        "      #      \n",
        "     ###     \n",
        "    #####    \n",
        "   #######   \n",
        "  #########  \n",
        " ########### \n",
        "############# \n",
        "```\n",
        "\n"
      ],
      "metadata": {
        "id": "n1Tuy6szEGR8"
      }
    }
  ]
}