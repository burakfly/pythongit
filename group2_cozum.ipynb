{
 "cells": [
  {
   "cell_type": "code",
   "execution_count": 10,
   "source": [
    "x = input(\"Enter a grade score between 0.00 and 1.00\")\r\n",
    "x = float(x)\r\n",
    "if x > 1 and x < 0 :\r\n",
    "    score = \"The score out of range!\"\r\n",
    "elif x >= 0.9 :\r\n",
    "    score = \"A\"\r\n",
    "elif x >= 0.8 :\r\n",
    "    score = \"B\"\r\n",
    "elif x >= 0.7 :\r\n",
    "    score = \"C\"\r\n",
    "elif x >= 0.6 :\r\n",
    "    score = \"D\"\r\n",
    "else:\r\n",
    "    score = \"F\"\r\n",
    "print(score)\r\n"
   ],
   "outputs": [
    {
     "output_type": "stream",
     "name": "stdout",
     "text": [
      "D\n"
     ]
    }
   ],
   "metadata": {}
  },
  {
   "cell_type": "code",
   "execution_count": 20,
   "source": [
    "y =input(\"Enter a string\")\r\n",
    "count = 0\r\n",
    "count1 = 0\r\n",
    "for i in y :\r\n",
    "    if i == \" \" :\r\n",
    "        count += 0 \r\n",
    "        count1 += 0\r\n",
    "    elif i == i.upper():\r\n",
    "        count += 1\r\n",
    "    elif i == i.lower():\r\n",
    "        count1 += 1\r\n",
    "if count == 0 and count1 > 0:\r\n",
    "    print(True)\r\n",
    "elif count > 1 and count1 == 0:\r\n",
    "    print(True)\r\n",
    "else:\r\n",
    "    print(False)"
   ],
   "outputs": [
    {
     "output_type": "stream",
     "name": "stdout",
     "text": [
      "True\n"
     ]
    }
   ],
   "metadata": {}
  },
  {
   "cell_type": "code",
   "execution_count": 26,
   "source": [
    "def modulus(a):\r\n",
    "    m = []\r\n",
    "    for i in range(1, a) :\r\n",
    "        if a % i == 0:\r\n",
    "            m.append(i)\r\n",
    "    return m \r\n",
    "modulus(12)"
   ],
   "outputs": [
    {
     "output_type": "execute_result",
     "data": {
      "text/plain": [
       "[1, 2, 3, 4, 6]"
      ]
     },
     "metadata": {},
     "execution_count": 26
    }
   ],
   "metadata": {}
  },
  {
   "cell_type": "code",
   "execution_count": 36,
   "source": [
    "def sessiz(sentence):\r\n",
    "    sesli = [\"a\",\"e\",\"ı\",\"i\",\"o\",\"ö\",\"u\",\"ü\"]\r\n",
    "    sentence1 = []\r\n",
    "    for i in sentence:\r\n",
    "        sentence1.append(i)\r\n",
    "    for i in sentence1 :\r\n",
    "        if i in sesli :\r\n",
    "            sentence1.remove(i)\r\n",
    "    return sentence1\r\n",
    "print(*sessiz(\"Hayat beni neden yoruyosun?\"))    "
   ],
   "outputs": [
    {
     "output_type": "stream",
     "name": "stdout",
     "text": [
      "H y t   b n   n d n   y r y s n ?\n"
     ]
    }
   ],
   "metadata": {}
  },
  {
   "cell_type": "code",
   "execution_count": 49,
   "source": [
    "\"burak\".replace(\"a\",\"\")"
   ],
   "outputs": [
    {
     "output_type": "execute_result",
     "data": {
      "text/plain": [
       "'burk'"
      ]
     },
     "metadata": {},
     "execution_count": 49
    }
   ],
   "metadata": {}
  },
  {
   "cell_type": "code",
   "execution_count": 64,
   "source": [
    "def sessiz(sentence):\r\n",
    "    sesli = [\"a\",\"e\",\"ı\",\"i\",\"o\",\"ö\",\"u\",\"ü\"]\r\n",
    "    for i in sentence :\r\n",
    "        if i in sesli :\r\n",
    "            a = sentence.replace(i,\"\")\r\n",
    "            sentence = a\r\n",
    "    return sentence\r\n",
    "print(sessiz(\"Burak\")) "
   ],
   "outputs": [
    {
     "output_type": "stream",
     "name": "stdout",
     "text": [
      "Brk\n"
     ]
    }
   ],
   "metadata": {}
  },
  {
   "cell_type": "code",
   "execution_count": 91,
   "source": [
    "def century(year):\r\n",
    "    year = str(year)\r\n",
    "    i = 0\r\n",
    "    cen = []\r\n",
    "    while i < 2 :\r\n",
    "        cen.append(year[i])\r\n",
    "        i += 1\r\n",
    "    a = cen[0] + cen[1]    \r\n",
    "    a = int(a)\r\n",
    "    return a+1\r\n",
    "century(1999)"
   ],
   "outputs": [
    {
     "output_type": "execute_result",
     "data": {
      "text/plain": [
       "20"
      ]
     },
     "metadata": {},
     "execution_count": 91
    }
   ],
   "metadata": {}
  }
 ],
 "metadata": {
  "orig_nbformat": 4,
  "language_info": {
   "name": "python",
   "version": "3.9.6",
   "mimetype": "text/x-python",
   "codemirror_mode": {
    "name": "ipython",
    "version": 3
   },
   "pygments_lexer": "ipython3",
   "nbconvert_exporter": "python",
   "file_extension": ".py"
  },
  "kernelspec": {
   "name": "python3",
   "display_name": "Python 3.9.6 64-bit"
  },
  "interpreter": {
   "hash": "1f5a4fa7b40ef2e17656420b24044b840261820699086190e3701f297d6ffec2"
  }
 },
 "nbformat": 4,
 "nbformat_minor": 2
}